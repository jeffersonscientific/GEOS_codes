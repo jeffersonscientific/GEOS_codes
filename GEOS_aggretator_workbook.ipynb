{
 "cells": [
  {
   "cell_type": "code",
   "execution_count": 1,
   "id": "a443696a",
   "metadata": {},
   "outputs": [],
   "source": [
    "%load_ext autoreload\n",
    "%autoreload 2\n",
    "%matplotlib inline\n"
   ]
  },
  {
   "cell_type": "code",
   "execution_count": 6,
   "id": "b8384020",
   "metadata": {},
   "outputs": [],
   "source": [
    "import numpy\n",
    "import scipy\n",
    "import pylab as plt\n",
    "import math\n",
    "#\n",
    "import sys\n",
    "import os\n",
    "#\n",
    "import csv\n",
    "import xml\n",
    "import xml.etree.ElementTree as ET\n"
   ]
  },
  {
   "cell_type": "code",
   "execution_count": 27,
   "id": "bffb500a",
   "metadata": {},
   "outputs": [
    {
     "name": "stdout",
     "output_type": "stream",
     "text": [
      "** data_path:  /scratch/users/myoder96/haycat_geos/vtkOutput\n"
     ]
    }
   ],
   "source": [
    "\n",
    "data_path = os.path.join(os.path.split(os.getcwd())[0], 'vtkOutput')\n",
    "print('** data_path: ', data_path)\n",
    "\n",
    "\n"
   ]
  },
  {
   "cell_type": "markdown",
   "id": "6ce9d2a9",
   "metadata": {},
   "source": [
    "# GEOS output layout\n",
    "The directory structure is something like,\n",
    "```\n",
    "$ tree -L 5\n",
    ".\n",
    "└── vtkOutput\n",
    "    ├── 000000\n",
    "    │   └── mesh\n",
    "    │       └── Level0\n",
    "    │           ├── carbonate_cement\n",
    "    │           ├── coarse_sandstone\n",
    "    │           ├── composite_high\n",
    "    │           ├── composite_low\n",
    "    │           ├── composite_mid\n",
    "    │           ├── wellRegionCRC3\n",
    "    │           └── wellRegionCRC8\n",
    "    ├── 000000.vtm\n",
    "    ├── 000007\n",
    "    │   └── mesh\n",
    "    │       └── Level0\n",
    "    │           ├── carbonate_cement\n",
    "    │           ├── coarse_sandstone\n",
    "    │           ├── composite_high\n",
    "    │           ├── composite_low\n",
    "    │           ├── composite_mid\n",
    "    │           ├── wellRegionCRC3\n",
    "    │           └── wellRegionCRC8\n",
    "    ├── 000007.vtm\n",
    "```\n",
    "\n",
    "Where under each Level-5 entry (carbonate_cement, coarse_sandstone, ...) are N XML files, `rank_{k_mpi}.vtu`, where `k_mpi` are the MPI rank.\n",
    "\n",
    "The most obvious TODO is to consolidate the MPI rank collections into a single file. In most cases, this will reduce the iNode count by ~100. Then, it is pretty straight forward (I think?) to stack the outputs as a time series.\n",
    "\n",
    "There is a lot of redundant information. For example, at least the way this GEOS output is produced, the `time` index is repeated in each MPI rank, at least in this implementation, `mesh` is the only output, so the only member of the `{time_step}` directory, and then we only have the one `Level0`. So really everything can be aggregated up to the `{time_step}` level.\n",
    "\n",
    "Note that the directory structure is described in the `{timestep}.vtm` XML file, eg:\n",
    "\n",
    "```\n",
    "<?xml version=\"1.0\"?>\n",
    "<VTKFile type=\"vtkMultiBlockDataSet\" version=\"1.0\">\n",
    "        <vtkMultiBlockDataSet>\n",
    "                <Block name=\"mesh\">\n",
    "                        <Block name=\"Level0\">\n",
    "                                <Block name=\"CellElementRegion\">\n",
    "                                        <Block name=\"coarse_sandstone\">\n",
    "                                                <DataSet name=\"rank_000\" file=\"000022/mesh/Level0/coarse_sandstone/rank_000.vtu\" />\n",
    "                                                <DataSet name=\"rank_001\" file=\"000022/mesh/Level0/coarse_sandstone/rank_001.vtu\" />\n",
    "                                                <DataSet name=\"rank_002\" file=\"000022/mesh/Level0/coarse_sandstone/rank_002.vtu\" />\n",
    "                                                <DataSet name=\"rank_003\" file=\"000022/mesh/Level0/coarse_sandstone/rank_003.vtu\" />\n",
    "```\n",
    "\n",
    "Then, of course, the data must be extracted from each `{rank}..vtu` file, the process for which is not obvious. So we will start with just a script to describe the structure to aggregate. We will base this aggregation process on the `{timestep}.vtm` XML file, rather than an external knowledge of the directory structure. \n"
   ]
  },
  {
   "cell_type": "code",
   "execution_count": 49,
   "id": "fdfae1cd",
   "metadata": {},
   "outputs": [
    {
     "name": "stdout",
     "output_type": "stream",
     "text": [
      "** item[0]: <Element 'vtkMultiBlockDataSet' at 0x7f5d7dd5e270>: vtkMultiBlockDataSet :: {}\n",
      "** [(0, 0)]: vtkMultiBlockDataSet:: {'name': 'mesh'}\n",
      "** [(0, 0, 0)]: mesh:: Level0\n",
      "**[(0, 0, 0, 0, 1)]: Level0:: CellElementRegion\n",
      "** [(0, 0, 0, 0)]: CellElementRegion:: coarse_sandstone:: 128 rank files\n",
      "** [(0, 0, 0, 1)]: CellElementRegion:: composite_low:: 128 rank files\n",
      "** [(0, 0, 0, 2)]: CellElementRegion:: composite_mid:: 128 rank files\n",
      "** [(0, 0, 0, 3)]: CellElementRegion:: composite_high:: 128 rank files\n",
      "** [(0, 0, 0, 4)]: CellElementRegion:: carbonate_cement:: 128 rank files\n",
      "**[(0, 0, 0, 1, 4)]: Level0:: WellElementRegion\n",
      "** [(0, 0, 0, 0)]: WellElementRegion:: wellRegionCRC3:: 128 rank files\n",
      "** [(0, 0, 0, 1)]: WellElementRegion:: wellRegionCRC8:: 128 rank files\n"
     ]
    }
   ],
   "source": [
    "# tree of the timeseries. Start with one file.\n",
    "# as expected, at the root level, we have only the single 'vtkMultBlockDataSet' entry.\n",
    "#\n",
    "tree_ts = ET.parse(os.path.join(data_path, '000000.vtm'))\n",
    "root_ts = tree_ts.getroot()\n",
    "#\n",
    "# I think we need to manually handle the recursion.\n",
    "for k,child in enumerate(tree_ts.getroot()):\n",
    "    print(f'** item[{k}]: {child}: {child.tag} :: {child.attrib}')\n",
    "    for k_mesh, mesh in enumerate(child): \n",
    "        print(f'** [{k, k_mesh}]: {child.tag}:: {mesh.attrib}')\n",
    "        for k_level, level in enumerate(mesh):\n",
    "            print(f'** [{k, k_mesh, k_level}]: {mesh.attrib[\"name\"]}:: {level.attrib[\"name\"]}')\n",
    "            for k_region, region in enumerate(level):\n",
    "                print(f'**[{k, k_mesh, k_level, k_region, k_element}]: {level.attrib[\"name\"]}:: {region.attrib[\"name\"]}')\n",
    "                for k_element, element in enumerate(region):\n",
    "                    #\n",
    "                    # Here is where would aggregate the ranks\n",
    "                    for k_rank, rank in enumerate(element):\n",
    "                        # read the file; aggregate...\n",
    "                        pass\n",
    "                    print(f'** [{k, k_mesh, k_level, k_element}]: {region.attrib[\"name\"]}:: {element.attrib[\"name\"]}:: {k_rank+1} rank files')"
   ]
  },
  {
   "cell_type": "code",
   "execution_count": 48,
   "id": "5b171692",
   "metadata": {},
   "outputs": [
    {
     "ename": "KeyError",
     "evalue": "'name'",
     "output_type": "error",
     "traceback": [
      "\u001b[0;31m---------------------------------------------------------------------------\u001b[0m",
      "\u001b[0;31mKeyError\u001b[0m                                  Traceback (most recent call last)",
      "Input \u001b[0;32mIn [48]\u001b[0m, in \u001b[0;36m<cell line: 7>\u001b[0;34m()\u001b[0m\n\u001b[1;32m      7\u001b[0m \u001b[38;5;28;01mwhile\u001b[39;00m k_recurse \u001b[38;5;241m<\u001b[39m k_r_max:\n\u001b[1;32m      8\u001b[0m     \u001b[38;5;28;01mfor\u001b[39;00m k, elem \u001b[38;5;129;01min\u001b[39;00m \u001b[38;5;28menumerate\u001b[39m(items):\n\u001b[0;32m----> 9\u001b[0m         \u001b[38;5;28mprint\u001b[39m(\u001b[38;5;124mf\u001b[39m\u001b[38;5;124m'\u001b[39m\u001b[38;5;124mitem [\u001b[39m\u001b[38;5;132;01m{\u001b[39;00mk\u001b[38;5;132;01m}\u001b[39;00m\u001b[38;5;124m]: \u001b[39m\u001b[38;5;132;01m{\u001b[39;00mitems\u001b[38;5;241m.\u001b[39mattrib\u001b[38;5;132;01m}\u001b[39;00m\u001b[38;5;124m: \u001b[39m\u001b[38;5;132;01m{\u001b[39;00melem\u001b[38;5;241m.\u001b[39mattrib[\u001b[38;5;124m\"\u001b[39m\u001b[38;5;124mname\u001b[39m\u001b[38;5;124m\"\u001b[39m]\u001b[38;5;132;01m}\u001b[39;00m\u001b[38;5;124m'\u001b[39m)\n\u001b[1;32m     10\u001b[0m         items \u001b[38;5;241m=\u001b[39m elem\n\u001b[1;32m     11\u001b[0m         k_recurse \u001b[38;5;241m+\u001b[39m\u001b[38;5;241m=\u001b[39m\u001b[38;5;241m1\u001b[39m\n",
      "\u001b[0;31mKeyError\u001b[0m: 'name'"
     ]
    }
   ],
   "source": [
    "# can we do that with a generalized recursion? will it remember the variables in the correct scope?\n",
    "#\n",
    "k_recurse = 0\n",
    "k_r_max = 5\n",
    "#\n",
    "items = tree_ts.getroot()\n",
    "while k_recurse < k_r_max:\n",
    "    for k, elem in enumerate(items):\n",
    "        print(f'item [{k}]: {items.attrib}: {elem.attrib[\"name\"]}')\n",
    "        items = elem\n",
    "        k_recurse +=1\n",
    "        #\n",
    "    "
   ]
  },
  {
   "cell_type": "code",
   "execution_count": null,
   "id": "8f562d98",
   "metadata": {},
   "outputs": [],
   "source": []
  }
 ],
 "metadata": {
  "kernelspec": {
   "display_name": "env_geos39",
   "language": "python",
   "name": "env_geos39"
  },
  "language_info": {
   "codemirror_mode": {
    "name": "ipython",
    "version": 3
   },
   "file_extension": ".py",
   "mimetype": "text/x-python",
   "name": "python",
   "nbconvert_exporter": "python",
   "pygments_lexer": "ipython3",
   "version": "3.9.0"
  }
 },
 "nbformat": 4,
 "nbformat_minor": 5
}
